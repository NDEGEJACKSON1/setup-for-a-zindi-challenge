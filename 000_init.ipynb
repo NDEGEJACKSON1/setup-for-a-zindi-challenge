{
  "nbformat": 4,
  "nbformat_minor": 0,
  "metadata": {
    "colab": {
      "name": "000-init.ipynb",
      "provenance": [],
      "collapsed_sections": [],
      "authorship_tag": "ABX9TyO8MB3KAA0GRwbsLzmMpyFM",
      "include_colab_link": true
    },
    "kernelspec": {
      "name": "python3",
      "display_name": "Python 3"
    },
    "language_info": {
      "name": "python"
    }
  },
  "cells": [
    {
      "cell_type": "markdown",
      "metadata": {
        "id": "view-in-github",
        "colab_type": "text"
      },
      "source": [
        "<a href=\"https://colab.research.google.com/github/eaedk/setup-for-a-zindi-challenge/blob/main/000_init.ipynb\" target=\"_parent\"><img src=\"https://colab.research.google.com/assets/colab-badge.svg\" alt=\"Open In Colab\"/></a>"
      ]
    },
    {
      "cell_type": "code",
      "metadata": {
        "id": "HsX3g_ifLKvU",
        "colab": {
          "base_uri": "https://localhost:8080/"
        },
        "outputId": "0f1a4ca1-6bb5-4b46-c199-366a32e2dfa6"
      },
      "source": [
        "# Package to have access to the Zindi Platform features\n",
        "!pip -q install git+https://github.com/eaedk/testing-zindi-package.git"
      ],
      "execution_count": null,
      "outputs": [
        {
          "output_type": "stream",
          "name": "stdout",
          "text": [
            "  Building wheel for zindi (setup.py) ... \u001b[?25l\u001b[?25hdone\n",
            "  Building wheel for tdqm (setup.py) ... \u001b[?25l\u001b[?25hdone\n"
          ]
        }
      ]
    },
    {
      "cell_type": "markdown",
      "source": [
        "# Documentation\n",
        "\n",
        "```python\n",
        "from zindi.user import Zindian\n",
        "\n",
        "# object\n",
        "user = Zindian(username=USERNAME) # Sign in                                             # , fixed_password=PASSWORD\n",
        "\n",
        "# available features\n",
        "selected challenge\n",
        "user.select_a_challenge()                               # Select a Zindi challenge\n",
        "user.which_challenge                                    # Get information about the selected challenge\n",
        "user.download_dataset(destination=\"tests/dataset\") # Download the dataset of the selected challenge\n",
        "user.my_rank                                    # Get the user's leaderboard rank\n",
        "user.leaderboard()                              # Show the Leaderboard of the selected challenge\n",
        "user.remaining_subimissions                         # Get information about how many submission you can still push now to Zindi\n",
        "user.submission_board()                         # Show the user's Submission-board of the selected challenge\n",
        "user.submit(filepaths=['./dataset/SampleSubmission.csv','.output/sub001.csv'],\n",
        "comments=['initial test submission','first submission']) # Push a submission to Zindi : the SampleSubmission file \n",
        "user.remaining_subimissions                             # Get information about how many submission you can still push now to Zindi\n",
        "user.submission_board()                             # Show the Submission-board of the selected challenge\n",
        "user.create_team(team_name=\"New Team\", teammates=['username 1', 'username 2',])             # Create a team for the selected challenge\n",
        "```"
      ],
      "metadata": {
        "id": "q4QJm7U8xVGY"
      }
    },
    {
      "cell_type": "markdown",
      "metadata": {
        "id": "1JQQeIqUujH6"
      },
      "source": [
        "# Start a challenge : microsoft-rice-disease-classification-challenge"
      ]
    },
    {
      "cell_type": "markdown",
      "source": [
        " ## Setup"
      ],
      "metadata": {
        "id": "zgH58mGRHz2M"
      }
    },
    {
      "cell_type": "code",
      "source": [
        "from zindi.user import Zindian"
      ],
      "metadata": {
        "id": "FZ6f6kl8yAek"
      },
      "execution_count": null,
      "outputs": []
    },
    {
      "cell_type": "code",
      "metadata": {
        "id": "10bemvEbvWnf"
      },
      "source": [
        "#@title Input Username\n",
        "\n",
        "# Login info for a Zindi Account\n",
        "\n",
        "USERNAME = \"\" #@param {type : \"string\"}"
      ],
      "execution_count": null,
      "outputs": []
    },
    {
      "cell_type": "code",
      "source": [
        "# object\n",
        "user = Zindian(username=USERNAME) # Sign in                                             # , fixed_password=PASSWORD "
      ],
      "metadata": {
        "colab": {
          "base_uri": "https://localhost:8080/"
        },
        "id": "zvLjN66DDB23",
        "outputId": "2ad4e979-76b5-47f6-ef27-2081f3a8634d"
      },
      "execution_count": null,
      "outputs": [
        {
          "output_type": "stream",
          "name": "stdout",
          "text": [
            "Your password\n",
            ">> ··········\n",
            "\n",
            "[ 🟢 ] 👋🏾👋🏾 Welcome eaedk 👋🏾👋🏾\n",
            "\n"
          ]
        }
      ]
    },
    {
      "cell_type": "code",
      "source": [
        "user.select_a_challenge(reward='all', kind='competition', active='true')                               # Select a Zindi challenge"
      ],
      "metadata": {
        "colab": {
          "base_uri": "https://localhost:8080/"
        },
        "id": "aE3e5-UNyR95",
        "outputId": "1a3f26c3-83ee-46a8-bd14-65abe1cd8674"
      },
      "execution_count": 33,
      "outputs": [
        {
          "output_type": "stream",
          "name": "stdout",
          "text": [
            "__________________________________________________________________________________________________________________________________\n",
            "|     |              |                  |                    |          \n",
            "|index|  challenge   |     problem      |       reward       |    id    \n",
            "|     |              |                  |                    |          \n",
            "----------------------------------------------------------------------------------------------------------------------------------\n",
            "|  0  |Public Compet |                  |     $3 000 USD     | microsoft-rice-disease-classification-challenge...\n",
            "----------------------------------------------------------------------------------------------------------------------------------\n",
            "|  1  |Public Compet |  Classification  |     $1 000 USD     | makerere-fall-armyworm-crop-challenge...\n",
            "----------------------------------------------------------------------------------------------------------------------------------\n",
            "|  2  |Public Compet |     Forecast     |     Knowledge      | turtle-rescue-forecast-challenge...\n",
            "----------------------------------------------------------------------------------------------------------------------------------\n",
            "|  3  |Public Compet |    Prediction    |    Internships     | loan-default-prediction-challenge...\n",
            "----------------------------------------------------------------------------------------------------------------------------------\n",
            "|  4  |Public Compet |                  |     $3 000 USD     | google-asr-hack-series-africa-asr-data-challenge...\n",
            "----------------------------------------------------------------------------------------------------------------------------------\n",
            "|  5  |Public Compet |    Prediction    |       $7 500       | hulkshare-recommendation-algorithm-challenge...\n",
            "----------------------------------------------------------------------------------------------------------------------------------\n",
            "|  6  |Public Compet |  Classification  |     Knowledge      | road-segment-identification...\n",
            "----------------------------------------------------------------------------------------------------------------------------------\n",
            "|  7  |Public Compet |    Prediction    |     Knowledge      | local-ocean-conservation-sea-turtle-face-detection...\n",
            "----------------------------------------------------------------------------------------------------------------------------------\n",
            "|  8  |Public Compet |  Classification  |     Knowledge      | zindiweekendz-learning-to-vaccinate-or-not-to-vacc...\n",
            "----------------------------------------------------------------------------------------------------------------------------------\n",
            "|  9  |Public Compet |  Classification  |     Knowledge      | swahili-news-classification...\n",
            "----------------------------------------------------------------------------------------------------------------------------------\n",
            "| 10  |Public Compet |    Prediction    |     Knowledge      | zindiweekendz-learning-urban-air-pollution-challen...\n",
            "----------------------------------------------------------------------------------------------------------------------------------\n",
            "| 11  |Public Compet |  Classification  |     Knowledge      | zindiweekendz-learning-covid-19-tweet-classificati...\n",
            "----------------------------------------------------------------------------------------------------------------------------------\n",
            "| 12  |Public Compet |    Prediction    |     Knowledge      | zindiweekendz-learning-south-african-covid-19-vuln...\n",
            "----------------------------------------------------------------------------------------------------------------------------------\n",
            "| 13  |Public Compet | Computer Vision  |     Knowledge      | zindiweekendz-learning-spot-the-mask-challenge...\n",
            "----------------------------------------------------------------------------------------------------------------------------------\n",
            "| 14  |Public Compet |    Prediction    |     Knowledge      | tanzania-tourism-prediction...\n",
            "----------------------------------------------------------------------------------------------------------------------------------\n",
            "| 15  |Public Compet |    Prediction    |     Knowledge      | data-science-nigeria-2019-challenge-1-insurance-pr...\n",
            "----------------------------------------------------------------------------------------------------------------------------------\n",
            "| 16  |Public Compet |  Classification  |     Knowledge      | ai-hack-tunisia-4-predictive-analytics-challenge-1...\n",
            "----------------------------------------------------------------------------------------------------------------------------------\n",
            "| 17  |Public Compet | Computer Vision  |     Knowledge      | ai-hack-tunisia-2-computer-vision-challenge-2...\n",
            "----------------------------------------------------------------------------------------------------------------------------------\n",
            "| 18  |Public Compet |  Classification  |     Knowledge      | ai-hack-tunisia-6-predictive-analytics-challenge-3...\n",
            "----------------------------------------------------------------------------------------------------------------------------------\n",
            "| 19  |Public Compet |  Classification  |     Knowledge      | ai-hack-tunisia-1-computer-vision-challenge-1...\n",
            "----------------------------------------------------------------------------------------------------------------------------------\n",
            "| 20  |Public Compet |    Prediction    |     Knowledge      | ai-tunisia-hack-5-predictive-analytics-challenge-2...\n",
            "----------------------------------------------------------------------------------------------------------------------------------\n",
            "| 21  |Public Compet | Computer Vision  |     Knowledge      | miia-pothole-image-classification-challenge...\n",
            "----------------------------------------------------------------------------------------------------------------------------------\n",
            "| 22  |Public Compet | Computer Vision  |     Knowledge      | sbtic-animal-classification...\n",
            "----------------------------------------------------------------------------------------------------------------------------------\n",
            "| 23  |Public Compet |    Prediction    |     Knowledge      | financial-inclusion-in-africa...\n",
            "----------------------------------------------------------------------------------------------------------------------------------\n",
            "| 24  |Public Compet | Computer Vision  |     Knowledge      | cmu-africa-data-science-club-challenge-1-computer-...\n",
            "----------------------------------------------------------------------------------------------------------------------------------\n",
            "| 25  |Public Compet |    Prediction    |     Knowledge      | data-science-nigeria-challenge-2-recommendation-en...\n",
            "----------------------------------------------------------------------------------------------------------------------------------\n",
            "| 26  |Public Compet |    Prediction    |     Knowledge      | data-science-nigeria-challenge-1-loan-default-pred...\n",
            "----------------------------------------------------------------------------------------------------------------------------------\n",
            "| 27  |Public Compet |    Prediction    |     Knowledge      | umojahack-2022-intermediate-practice-challenge...\n",
            "----------------------------------------------------------------------------------------------------------------------------------\n",
            "| 28  |Public Compet |  Classification  |     Knowledge      | umojahack-2022-advanced-practice-challenge...\n",
            "----------------------------------------------------------------------------------------------------------------------------------\n",
            "| 29  |Public Compet |    Prediction    |     Knowledge      | umojahack-2022-practice-challenge...\n",
            "----------------------------------------------------------------------------------------------------------------------------------\n",
            "| 30  |Public Compet |    Prediction    | 1 000 Zindi Points | be-a-trailblazer...\n",
            "----------------------------------------------------------------------------------------------------------------------------------\n",
            "| 31  |Public Compet |  Visualisation   |     $3 000 USD     | hack-the-continent-open-buildings-challenge...\n",
            "----------------------------------------------------------------------------------------------------------------------------------\n",
            "| 32  |Public Compet |  Classification  |    $10 000 USD     | turtle-recall-conservation-challenge...\n",
            "----------------------------------------------------------------------------------------------------------------------------------\n",
            "| 33  |Public Compet |  Classification  |     $5 000 USD     | kenyan-sign-language-classification-challenge...\n",
            "----------------------------------------------------------------------------------------------------------------------------------\n",
            "| 34  |Public Compet |  Classification  |     $7 500 USD     | bloodsai-blood-spectroscopy-classification-challen...\n",
            "----------------------------------------------------------------------------------------------------------------------------------\n",
            "| 35  |Public Compet |Automatic Speech R|     $3 000 USD     | mozilla-luganda-automatic-speech-recognition...\n",
            "----------------------------------------------------------------------------------------------------------------------------------\n",
            "| 36  |Public Compet |    Prediction    |     $3 000 USD     | zindi-user-behaviour-birthday-challenge...\n",
            "----------------------------------------------------------------------------------------------------------------------------------\n",
            "| 37  |Public Compet |    Prediction    |     $1 000 USD     | expresso-churn-prediction...\n",
            "----------------------------------------------------------------------------------------------------------------------------------\n",
            "| 38  |Public Compet |  Classification  |     $1 000 USD     | makerere-passion-fruit-disease-detection-challenge...\n",
            "----------------------------------------------------------------------------------------------------------------------------------\n",
            "| 39  |Public Compet |  Classification  |    2000 Points     | gender-based-violence-tweet-classification-challen...\n",
            "----------------------------------------------------------------------------------------------------------------------------------\n",
            "| 40  |Public Compet |     Forecast     |     $8 800 USD     | radiant-earth-spot-the-crop-xl-challenge...\n",
            "----------------------------------------------------------------------------------------------------------------------------------\n",
            "| 41  |Public Compet |     Forecast     |     $8 800USD      | radiant-earth-spot-the-crop-challenge...\n",
            "----------------------------------------------------------------------------------------------------------------------------------\n",
            "| 42  |Public Compet |    Prediction    |     $1 000 USD     | cryptocurrency-closing-price-prediction...\n",
            "----------------------------------------------------------------------------------------------------------------------------------\n",
            "| 43  |Public Compet |    Prediction    |     $5 000 USD     | sfc-paygo-solar-credit-repayment-competition...\n",
            "----------------------------------------------------------------------------------------------------------------------------------\n",
            "| 44  |Public Compet |  Visualisation   |     $5 000 USD     | afd-solutions-for-gender-based-violence-challenge...\n",
            "----------------------------------------------------------------------------------------------------------------------------------\n",
            "| 45  |Public Compet |    Prediction    |Scholarship worth $3| ix-mobile-banking-prediction-challenge...\n",
            "----------------------------------------------------------------------------------------------------------------------------------\n",
            "| 46  |Public Compet |  Visualisation   |     $1 500 USD     | deepfake-africa-challenge...\n",
            "----------------------------------------------------------------------------------------------------------------------------------\n",
            "| 47  |Public Compet |    Prediction    |     $1 000 USD     | airqo-low-cost-air-quality-monitor-calibration-cha...\n",
            "----------------------------------------------------------------------------------------------------------------------------------\n",
            "| 48  |Public Compet |    Prediction    |    2000 Points     | economic-well-being-prediction-challenge...\n",
            "----------------------------------------------------------------------------------------------------------------------------------\n",
            "| 49  |Public Compet |    Prediction    |    $10 000 USD     | lacuna-correct-field-detection-challenge...\n",
            "----------------------------------------------------------------------------------------------------------------------------------\n",
            "| 50  |Public Compet |    Prediction    |     $1 000 USD     | autoinland-vehicle-insurance-claim-challenge...\n",
            "----------------------------------------------------------------------------------------------------------------------------------\n",
            "| 51  |Public Compet |    Collection    |     $1 000 USD     | afd-gender-based-violence-dataset-collection-chall...\n",
            "----------------------------------------------------------------------------------------------------------------------------------\n",
            "| 52  |Public Compet |Automatic Speech R|     $2 000 USD     | ai4d-baamtu-datamation-automatic-speech-recognitio...\n",
            "----------------------------------------------------------------------------------------------------------------------------------\n",
            "| 53  |Public Compet |  Classification  |     $2 000 USD     | ai4d-malawi-news-classification-challenge...\n",
            "----------------------------------------------------------------------------------------------------------------------------------\n",
            "| 54  |Public Compet |   Translation    |     $2 000 USD     | ai4d-takwimu-lab-machine-translation-challenge...\n",
            "----------------------------------------------------------------------------------------------------------------------------------\n",
            "| 55  |Public Compet |   Translation    |     $2 000 USD     | ai4d-yoruba-machine-translation-challenge...\n",
            "----------------------------------------------------------------------------------------------------------------------------------\n",
            "| 56  |Public Compet |  Classification  |     $2 000 USD     | ai4d-icompass-social-media-sentiment-analysis-for-...\n",
            "----------------------------------------------------------------------------------------------------------------------------------\n",
            "| 57  |Public Compet |  Classification  |   Job Interview    | instadeep-enzyme-classification-challenge...\n",
            "----------------------------------------------------------------------------------------------------------------------------------\n",
            "| 58  |Public Compet |    Prediction    |     $3 000 USD     | cgiar-crop-yield-prediction-challenge...\n",
            "----------------------------------------------------------------------------------------------------------------------------------\n",
            "| 59  |Public Compet |    Prediction    |     $6 000 USD     | uber-nairobi-ambulance-perambulation-challenge...\n",
            "----------------------------------------------------------------------------------------------------------------------------------\n",
            "| 60  |Public Compet |  Classification  |     $7 000 USD     | giz-nlp-agricultural-keyword-spotter...\n",
            "----------------------------------------------------------------------------------------------------------------------------------\n",
            "| 61  |Public Compet | Computer Vision  |     $3 000 USD     | cgiar-wheat-growth-stage-challenge...\n",
            "----------------------------------------------------------------------------------------------------------------------------------\n",
            "| 62  |Public Compet |  Classification  | 2000 Zindi Points  | runmila-ai-institute-minohealth-ai-labs-tuberculos...\n",
            "----------------------------------------------------------------------------------------------------------------------------------\n",
            "| 63  |Public Compet |    Prediction    |    $25 000 USD     | usaids-intelligent-forecasting-challenge-model-fut...\n",
            "----------------------------------------------------------------------------------------------------------------------------------\n",
            "| 64  |Public Compet |    Prediction    |     $5 000 USD     | zimnat-insurance-recommendation-challenge...\n",
            "----------------------------------------------------------------------------------------------------------------------------------\n",
            "| 65  |Public Compet |Reinforcement Lear| 3000 Zindi Points  | indaba-grand-challenge-curing-leishmaniasis...\n",
            "----------------------------------------------------------------------------------------------------------------------------------\n",
            "| 66  |Public Compet |    Collection    |     $6 000 USD     | ai4d-african-language-dataset-challenge...\n",
            "----------------------------------------------------------------------------------------------------------------------------------\n",
            "| 67  |Public Compet |    Prediction    |     $3 000 USD     | akeed-restaurant-recommendation-challenge...\n",
            "----------------------------------------------------------------------------------------------------------------------------------\n",
            "| 68  |Public Compet |  Classification  |     $4 200 USD     | basic-needs-basic-rights-kenya-tech4mentalhealth...\n",
            "----------------------------------------------------------------------------------------------------------------------------------\n",
            "| 69  |Public Compet |  Visualisation   |     $3 195 USD     | animal-insights-challenge...\n",
            "----------------------------------------------------------------------------------------------------------------------------------\n",
            "| 70  |Public Compet |     Forecast     |     $5 000 USD     | airqo-ugandan-air-quality-forecast-challenge...\n",
            "----------------------------------------------------------------------------------------------------------------------------------\n",
            "| 71  |Public Compet |     Forecast     |     $5 000 USD     | predict-the-global-spread-of-covid-19...\n",
            "----------------------------------------------------------------------------------------------------------------------------------\n",
            "| 72  |Public Compet | Computer Vision  |     $5 000 USD     | iclr-workshop-challenge-2-radiant-earth-computer-v...\n",
            "----------------------------------------------------------------------------------------------------------------------------------\n",
            "| 73  |Public Compet | Computer Vision  |     $5 000 USD     | iclr-workshop-challenge-1-cgiar-computer-vision-fo...\n",
            "----------------------------------------------------------------------------------------------------------------------------------\n",
            "| 74  |Public Compet |  Classification  | 2000 Zindi Points  | fowl-escapades...\n",
            "----------------------------------------------------------------------------------------------------------------------------------\n",
            "| 75  |Public Compet |     Forecast     |    $10 000 USD     | 2030-vision-flood-prediction-in-malawi...\n",
            "----------------------------------------------------------------------------------------------------------------------------------\n",
            "| 76  |Public Compet |  Visualisation   |     $5 000 USD     | 2030-vision-data-visualization-and-reporting-chall...\n",
            "----------------------------------------------------------------------------------------------------------------------------------\n",
            "| 77  |Public Compet |     Forecast     | 2000 Zindi Points  | sea-turtle-rescue-forecast-challenge...\n",
            "----------------------------------------------------------------------------------------------------------------------------------\n",
            "| 78  |Public Compet |    Prediction    |     $5 000 USD     | womxn-in-big-data-south-africa-female-headed-house...\n",
            "----------------------------------------------------------------------------------------------------------------------------------\n",
            "| 79  |Public Compet |  Classification  | 2000 Zindi Points  | tic-heap-cirta-particle-classification-challenge...\n",
            "----------------------------------------------------------------------------------------------------------------------------------\n",
            "| 80  |Public Compet |    Prediction    |     $5 500 USD     | uber-movement-sanral-cape-town-challenge...\n",
            "----------------------------------------------------------------------------------------------------------------------------------\n",
            "| 81  |Public Compet |    Prediction    | 2000 Zindi Points  | sbtic-xente-credit-scoring-challenge...\n",
            "----------------------------------------------------------------------------------------------------------------------------------\n",
            "| 82  |Public Compet |Reinforcement Lear|     Knowledge      | ibm-malaria-challenge...\n",
            "----------------------------------------------------------------------------------------------------------------------------------\n",
            "| 83  |Public Compet |    Prediction    |     $7 000 USD     | sendy-logistics-challenge...\n",
            "----------------------------------------------------------------------------------------------------------------------------------\n",
            "| 84  |Public Compet |     Forecast     |     $8 000 USD     | wazihub-soil-moisture-prediction-challenge...\n",
            "----------------------------------------------------------------------------------------------------------------------------------\n",
            "| 85  |Public Compet |  Visualisation   |     $3 000 USD     | ai-art... \n",
            "----------------------------------------------------------------------------------------------------------------------------------\n",
            "| 86  |Public Compet |  Classification  |     $4 500 USD     | xente-fraud-detection-challenge...\n",
            "----------------------------------------------------------------------------------------------------------------------------------\n",
            "| 87  |Public Compet |     Forecast     | 2000 Zindi Points  | mtoto-news-childline-kenya-call-volume-prediction-...\n",
            "----------------------------------------------------------------------------------------------------------------------------------\n",
            "| 88  |Public Compet |    Prediction    |Cash and prizes wort| mobile-money-and-financial-inclusion-in-tanzania-c...\n",
            "----------------------------------------------------------------------------------------------------------------------------------\n",
            "| 89  |Public Compet |  Classification  |    $11 000 USD     | farm-pin-crop-detection-challenge...\n",
            "----------------------------------------------------------------------------------------------------------------------------------\n",
            "| 90  |Public Compet |  Classification  |Cash and prizes wort| sea-turtle-rescue-error-detection-challenge...\n",
            "----------------------------------------------------------------------------------------------------------------------------------\n",
            "| 91  |Public Compet |    Prediction    |  500 Zindi Points  | busara-mental-health-prediction-challenge...\n",
            "----------------------------------------------------------------------------------------------------------------------------------\n",
            "| 92  |Public Compet |    Prediction    |    $12 000 USD     | traffic-jam-predicting-peoples-movement-into-nairo...\n",
            "----------------------------------------------------------------------------------------------------------------------------------\n",
            "| 93  |Public Compet |  Classification  |     $1 000 USD     | sustainable-development-goals-sdgs-text-classifica...\n",
            "----------------------------------------------------------------------------------------------------------------------------------\n",
            "| 94  |Public Compet |    Prediction    |     $1 000 USD     | social-media-prediction-challenge...\n",
            "__________________________________________________________________________________________________________________________________\n",
            "\n",
            "\n",
            "Type the index of the challenge you want to select or 'q' to exit.\n",
            ">>0\n",
            "\n",
            "[ 🟢 ] You choose the challenge : microsoft-rice-disease-classification-challenge,\n",
            "\tCan you identify disease in images of rice grown in Egypt?.\n",
            "\n"
          ]
        }
      ]
    },
    {
      "cell_type": "code",
      "source": [
        "user.which_challenge                                    # Get information about the selected challenge"
      ],
      "metadata": {
        "colab": {
          "base_uri": "https://localhost:8080/",
          "height": 105
        },
        "id": "Cm-4xe1yyUI9",
        "outputId": "57002d48-13fc-432f-ddd0-f31a44a97f54"
      },
      "execution_count": null,
      "outputs": [
        {
          "output_type": "stream",
          "name": "stdout",
          "text": [
            "\n",
            "[ 🟢 ] You are currently enrolled in : microsoft-rice-disease-classification-challenge challenge,\n",
            "\tCan you identify disease in images of rice grown in Egypt?.\n",
            "\n"
          ]
        },
        {
          "output_type": "execute_result",
          "data": {
            "text/plain": [
              "'microsoft-rice-disease-classification-challenge'"
            ],
            "application/vnd.google.colaboratory.intrinsic+json": {
              "type": "string"
            }
          },
          "metadata": {},
          "execution_count": 7
        }
      ]
    },
    {
      "cell_type": "code",
      "source": [
        "user.download_dataset(destination=\"dataset\") # Download the dataset of the selected challenge"
      ],
      "metadata": {
        "colab": {
          "base_uri": "https://localhost:8080/"
        },
        "id": "_J40-duyyKM0",
        "outputId": "105181ab-2b52-4d35-883e-43df79844e5c"
      },
      "execution_count": null,
      "outputs": [
        {
          "output_type": "stream",
          "name": "stderr",
          "text": [
            "dataset/Test.csv: 100%|██████████| 44.7k/44.7k [00:00<00:00, 378ko/s]\n",
            "dataset/Images.zip: 100%|██████████| 1.27G/1.27G [01:06<00:00, 20.4Mo/s]\n",
            "dataset/SampleSubmission.csv: 100%|██████████| 33.6k/33.6k [00:00<00:00, 248ko/s]\n",
            "dataset/Train.csv: 100%|██████████| 137k/137k [00:00<00:00, 340ko/s]\n"
          ]
        }
      ]
    },
    {
      "cell_type": "code",
      "source": [
        "!unzip dataset/Images.zip -d \"dataset/images\""
      ],
      "metadata": {
        "id": "vhBJ5JGFCEaP"
      },
      "execution_count": null,
      "outputs": []
    },
    {
      "cell_type": "markdown",
      "source": [
        "## Ready to go : Dataset checking out"
      ],
      "metadata": {
        "id": "w-TY_QabIIpv"
      }
    },
    {
      "cell_type": "code",
      "source": [
        "import pandas as pd \n",
        "import os"
      ],
      "metadata": {
        "id": "Nnb4R5f7CeRt"
      },
      "execution_count": null,
      "outputs": []
    },
    {
      "cell_type": "code",
      "source": [
        "train_raw = pd.read_csv(\"dataset/Train.csv\")\n",
        "test_raw = pd.read_csv(\"dataset/Test.csv\")\n",
        "\n",
        "image_folder = 'dataset/images/'\n",
        "image_path_col = \"filepath\"\n",
        "\n",
        "train_raw.insert(loc=1, column=image_path_col, value= image_folder+train_raw[\"Image_id\"])\n",
        "test_raw.insert(loc=1, column=image_path_col, value= image_folder+test_raw[\"Image_id\"])\n",
        "\n",
        "train = train_raw[train_raw.apply(lambda row: os.path.exists(row[image_path_col]), axis=1)]\n",
        "test = test_raw[test_raw.apply(lambda row: os.path.exists(row[image_path_col]), axis=1)]\n",
        "\n",
        "print(f\"[INFO] Missing images in dataset for Train : { train_raw.shape[0]-train.shape[0]} \" )\n",
        "print(f\"[INFO] Missing images in dataset for Test : { test_raw.shape[0]-test.shape[0]} \" )"
      ],
      "metadata": {
        "colab": {
          "base_uri": "https://localhost:8080/"
        },
        "id": "GU1tjUeOC3DQ",
        "outputId": "c0703d55-08c7-4b12-c5db-23f19dbd9bc4"
      },
      "execution_count": null,
      "outputs": [
        {
          "output_type": "stream",
          "name": "stdout",
          "text": [
            "[INFO] Missing images in dataset for Train : 0 \n",
            "[INFO] Missing images in dataset for Test : 0 \n"
          ]
        }
      ]
    },
    {
      "cell_type": "code",
      "source": [
        "train.head()"
      ],
      "metadata": {
        "colab": {
          "base_uri": "https://localhost:8080/",
          "height": 206
        },
        "id": "QE7Bon6CDC2f",
        "outputId": "fd1c2ed0-aca5-4ad7-c951-6a92e69f6125"
      },
      "execution_count": null,
      "outputs": [
        {
          "output_type": "execute_result",
          "data": {
            "text/plain": [
              "                Image_id                              filepath  Label\n",
              "0      id_004wknd7qd.jpg      dataset/images/id_004wknd7qd.jpg  blast\n",
              "1  id_004wknd7qd_rgn.jpg  dataset/images/id_004wknd7qd_rgn.jpg  blast\n",
              "2      id_005sitfgr2.jpg      dataset/images/id_005sitfgr2.jpg  brown\n",
              "3  id_005sitfgr2_rgn.jpg  dataset/images/id_005sitfgr2_rgn.jpg  brown\n",
              "4      id_00stp9t6m6.jpg      dataset/images/id_00stp9t6m6.jpg  blast"
            ],
            "text/html": [
              "\n",
              "  <div id=\"df-548aa16a-c3d7-43cd-82ac-2994fe45d05e\">\n",
              "    <div class=\"colab-df-container\">\n",
              "      <div>\n",
              "<style scoped>\n",
              "    .dataframe tbody tr th:only-of-type {\n",
              "        vertical-align: middle;\n",
              "    }\n",
              "\n",
              "    .dataframe tbody tr th {\n",
              "        vertical-align: top;\n",
              "    }\n",
              "\n",
              "    .dataframe thead th {\n",
              "        text-align: right;\n",
              "    }\n",
              "</style>\n",
              "<table border=\"1\" class=\"dataframe\">\n",
              "  <thead>\n",
              "    <tr style=\"text-align: right;\">\n",
              "      <th></th>\n",
              "      <th>Image_id</th>\n",
              "      <th>filepath</th>\n",
              "      <th>Label</th>\n",
              "    </tr>\n",
              "  </thead>\n",
              "  <tbody>\n",
              "    <tr>\n",
              "      <th>0</th>\n",
              "      <td>id_004wknd7qd.jpg</td>\n",
              "      <td>dataset/images/id_004wknd7qd.jpg</td>\n",
              "      <td>blast</td>\n",
              "    </tr>\n",
              "    <tr>\n",
              "      <th>1</th>\n",
              "      <td>id_004wknd7qd_rgn.jpg</td>\n",
              "      <td>dataset/images/id_004wknd7qd_rgn.jpg</td>\n",
              "      <td>blast</td>\n",
              "    </tr>\n",
              "    <tr>\n",
              "      <th>2</th>\n",
              "      <td>id_005sitfgr2.jpg</td>\n",
              "      <td>dataset/images/id_005sitfgr2.jpg</td>\n",
              "      <td>brown</td>\n",
              "    </tr>\n",
              "    <tr>\n",
              "      <th>3</th>\n",
              "      <td>id_005sitfgr2_rgn.jpg</td>\n",
              "      <td>dataset/images/id_005sitfgr2_rgn.jpg</td>\n",
              "      <td>brown</td>\n",
              "    </tr>\n",
              "    <tr>\n",
              "      <th>4</th>\n",
              "      <td>id_00stp9t6m6.jpg</td>\n",
              "      <td>dataset/images/id_00stp9t6m6.jpg</td>\n",
              "      <td>blast</td>\n",
              "    </tr>\n",
              "  </tbody>\n",
              "</table>\n",
              "</div>\n",
              "      <button class=\"colab-df-convert\" onclick=\"convertToInteractive('df-548aa16a-c3d7-43cd-82ac-2994fe45d05e')\"\n",
              "              title=\"Convert this dataframe to an interactive table.\"\n",
              "              style=\"display:none;\">\n",
              "        \n",
              "  <svg xmlns=\"http://www.w3.org/2000/svg\" height=\"24px\"viewBox=\"0 0 24 24\"\n",
              "       width=\"24px\">\n",
              "    <path d=\"M0 0h24v24H0V0z\" fill=\"none\"/>\n",
              "    <path d=\"M18.56 5.44l.94 2.06.94-2.06 2.06-.94-2.06-.94-.94-2.06-.94 2.06-2.06.94zm-11 1L8.5 8.5l.94-2.06 2.06-.94-2.06-.94L8.5 2.5l-.94 2.06-2.06.94zm10 10l.94 2.06.94-2.06 2.06-.94-2.06-.94-.94-2.06-.94 2.06-2.06.94z\"/><path d=\"M17.41 7.96l-1.37-1.37c-.4-.4-.92-.59-1.43-.59-.52 0-1.04.2-1.43.59L10.3 9.45l-7.72 7.72c-.78.78-.78 2.05 0 2.83L4 21.41c.39.39.9.59 1.41.59.51 0 1.02-.2 1.41-.59l7.78-7.78 2.81-2.81c.8-.78.8-2.07 0-2.86zM5.41 20L4 18.59l7.72-7.72 1.47 1.35L5.41 20z\"/>\n",
              "  </svg>\n",
              "      </button>\n",
              "      \n",
              "  <style>\n",
              "    .colab-df-container {\n",
              "      display:flex;\n",
              "      flex-wrap:wrap;\n",
              "      gap: 12px;\n",
              "    }\n",
              "\n",
              "    .colab-df-convert {\n",
              "      background-color: #E8F0FE;\n",
              "      border: none;\n",
              "      border-radius: 50%;\n",
              "      cursor: pointer;\n",
              "      display: none;\n",
              "      fill: #1967D2;\n",
              "      height: 32px;\n",
              "      padding: 0 0 0 0;\n",
              "      width: 32px;\n",
              "    }\n",
              "\n",
              "    .colab-df-convert:hover {\n",
              "      background-color: #E2EBFA;\n",
              "      box-shadow: 0px 1px 2px rgba(60, 64, 67, 0.3), 0px 1px 3px 1px rgba(60, 64, 67, 0.15);\n",
              "      fill: #174EA6;\n",
              "    }\n",
              "\n",
              "    [theme=dark] .colab-df-convert {\n",
              "      background-color: #3B4455;\n",
              "      fill: #D2E3FC;\n",
              "    }\n",
              "\n",
              "    [theme=dark] .colab-df-convert:hover {\n",
              "      background-color: #434B5C;\n",
              "      box-shadow: 0px 1px 3px 1px rgba(0, 0, 0, 0.15);\n",
              "      filter: drop-shadow(0px 1px 2px rgba(0, 0, 0, 0.3));\n",
              "      fill: #FFFFFF;\n",
              "    }\n",
              "  </style>\n",
              "\n",
              "      <script>\n",
              "        const buttonEl =\n",
              "          document.querySelector('#df-548aa16a-c3d7-43cd-82ac-2994fe45d05e button.colab-df-convert');\n",
              "        buttonEl.style.display =\n",
              "          google.colab.kernel.accessAllowed ? 'block' : 'none';\n",
              "\n",
              "        async function convertToInteractive(key) {\n",
              "          const element = document.querySelector('#df-548aa16a-c3d7-43cd-82ac-2994fe45d05e');\n",
              "          const dataTable =\n",
              "            await google.colab.kernel.invokeFunction('convertToInteractive',\n",
              "                                                     [key], {});\n",
              "          if (!dataTable) return;\n",
              "\n",
              "          const docLinkHtml = 'Like what you see? Visit the ' +\n",
              "            '<a target=\"_blank\" href=https://colab.research.google.com/notebooks/data_table.ipynb>data table notebook</a>'\n",
              "            + ' to learn more about interactive tables.';\n",
              "          element.innerHTML = '';\n",
              "          dataTable['output_type'] = 'display_data';\n",
              "          await google.colab.output.renderOutput(dataTable, element);\n",
              "          const docLink = document.createElement('div');\n",
              "          docLink.innerHTML = docLinkHtml;\n",
              "          element.appendChild(docLink);\n",
              "        }\n",
              "      </script>\n",
              "    </div>\n",
              "  </div>\n",
              "  "
            ]
          },
          "metadata": {},
          "execution_count": 22
        }
      ]
    },
    {
      "cell_type": "code",
      "source": [
        "test.head()"
      ],
      "metadata": {
        "colab": {
          "base_uri": "https://localhost:8080/",
          "height": 206
        },
        "id": "mL8XcnL1DFZN",
        "outputId": "40895938-874e-4e0d-b645-71ef78f13cd9"
      },
      "execution_count": null,
      "outputs": [
        {
          "output_type": "execute_result",
          "data": {
            "text/plain": [
              "                Image_id                              filepath\n",
              "0      id_00vl5wvxq3.jpg      dataset/images/id_00vl5wvxq3.jpg\n",
              "1  id_00vl5wvxq3_rgn.jpg  dataset/images/id_00vl5wvxq3_rgn.jpg\n",
              "2      id_01hu05mtch.jpg      dataset/images/id_01hu05mtch.jpg\n",
              "3  id_01hu05mtch_rgn.jpg  dataset/images/id_01hu05mtch_rgn.jpg\n",
              "4      id_030ln10ewn.jpg      dataset/images/id_030ln10ewn.jpg"
            ],
            "text/html": [
              "\n",
              "  <div id=\"df-5d13ed44-e2b3-4ed6-b322-a5f221d320b5\">\n",
              "    <div class=\"colab-df-container\">\n",
              "      <div>\n",
              "<style scoped>\n",
              "    .dataframe tbody tr th:only-of-type {\n",
              "        vertical-align: middle;\n",
              "    }\n",
              "\n",
              "    .dataframe tbody tr th {\n",
              "        vertical-align: top;\n",
              "    }\n",
              "\n",
              "    .dataframe thead th {\n",
              "        text-align: right;\n",
              "    }\n",
              "</style>\n",
              "<table border=\"1\" class=\"dataframe\">\n",
              "  <thead>\n",
              "    <tr style=\"text-align: right;\">\n",
              "      <th></th>\n",
              "      <th>Image_id</th>\n",
              "      <th>filepath</th>\n",
              "    </tr>\n",
              "  </thead>\n",
              "  <tbody>\n",
              "    <tr>\n",
              "      <th>0</th>\n",
              "      <td>id_00vl5wvxq3.jpg</td>\n",
              "      <td>dataset/images/id_00vl5wvxq3.jpg</td>\n",
              "    </tr>\n",
              "    <tr>\n",
              "      <th>1</th>\n",
              "      <td>id_00vl5wvxq3_rgn.jpg</td>\n",
              "      <td>dataset/images/id_00vl5wvxq3_rgn.jpg</td>\n",
              "    </tr>\n",
              "    <tr>\n",
              "      <th>2</th>\n",
              "      <td>id_01hu05mtch.jpg</td>\n",
              "      <td>dataset/images/id_01hu05mtch.jpg</td>\n",
              "    </tr>\n",
              "    <tr>\n",
              "      <th>3</th>\n",
              "      <td>id_01hu05mtch_rgn.jpg</td>\n",
              "      <td>dataset/images/id_01hu05mtch_rgn.jpg</td>\n",
              "    </tr>\n",
              "    <tr>\n",
              "      <th>4</th>\n",
              "      <td>id_030ln10ewn.jpg</td>\n",
              "      <td>dataset/images/id_030ln10ewn.jpg</td>\n",
              "    </tr>\n",
              "  </tbody>\n",
              "</table>\n",
              "</div>\n",
              "      <button class=\"colab-df-convert\" onclick=\"convertToInteractive('df-5d13ed44-e2b3-4ed6-b322-a5f221d320b5')\"\n",
              "              title=\"Convert this dataframe to an interactive table.\"\n",
              "              style=\"display:none;\">\n",
              "        \n",
              "  <svg xmlns=\"http://www.w3.org/2000/svg\" height=\"24px\"viewBox=\"0 0 24 24\"\n",
              "       width=\"24px\">\n",
              "    <path d=\"M0 0h24v24H0V0z\" fill=\"none\"/>\n",
              "    <path d=\"M18.56 5.44l.94 2.06.94-2.06 2.06-.94-2.06-.94-.94-2.06-.94 2.06-2.06.94zm-11 1L8.5 8.5l.94-2.06 2.06-.94-2.06-.94L8.5 2.5l-.94 2.06-2.06.94zm10 10l.94 2.06.94-2.06 2.06-.94-2.06-.94-.94-2.06-.94 2.06-2.06.94z\"/><path d=\"M17.41 7.96l-1.37-1.37c-.4-.4-.92-.59-1.43-.59-.52 0-1.04.2-1.43.59L10.3 9.45l-7.72 7.72c-.78.78-.78 2.05 0 2.83L4 21.41c.39.39.9.59 1.41.59.51 0 1.02-.2 1.41-.59l7.78-7.78 2.81-2.81c.8-.78.8-2.07 0-2.86zM5.41 20L4 18.59l7.72-7.72 1.47 1.35L5.41 20z\"/>\n",
              "  </svg>\n",
              "      </button>\n",
              "      \n",
              "  <style>\n",
              "    .colab-df-container {\n",
              "      display:flex;\n",
              "      flex-wrap:wrap;\n",
              "      gap: 12px;\n",
              "    }\n",
              "\n",
              "    .colab-df-convert {\n",
              "      background-color: #E8F0FE;\n",
              "      border: none;\n",
              "      border-radius: 50%;\n",
              "      cursor: pointer;\n",
              "      display: none;\n",
              "      fill: #1967D2;\n",
              "      height: 32px;\n",
              "      padding: 0 0 0 0;\n",
              "      width: 32px;\n",
              "    }\n",
              "\n",
              "    .colab-df-convert:hover {\n",
              "      background-color: #E2EBFA;\n",
              "      box-shadow: 0px 1px 2px rgba(60, 64, 67, 0.3), 0px 1px 3px 1px rgba(60, 64, 67, 0.15);\n",
              "      fill: #174EA6;\n",
              "    }\n",
              "\n",
              "    [theme=dark] .colab-df-convert {\n",
              "      background-color: #3B4455;\n",
              "      fill: #D2E3FC;\n",
              "    }\n",
              "\n",
              "    [theme=dark] .colab-df-convert:hover {\n",
              "      background-color: #434B5C;\n",
              "      box-shadow: 0px 1px 3px 1px rgba(0, 0, 0, 0.15);\n",
              "      filter: drop-shadow(0px 1px 2px rgba(0, 0, 0, 0.3));\n",
              "      fill: #FFFFFF;\n",
              "    }\n",
              "  </style>\n",
              "\n",
              "      <script>\n",
              "        const buttonEl =\n",
              "          document.querySelector('#df-5d13ed44-e2b3-4ed6-b322-a5f221d320b5 button.colab-df-convert');\n",
              "        buttonEl.style.display =\n",
              "          google.colab.kernel.accessAllowed ? 'block' : 'none';\n",
              "\n",
              "        async function convertToInteractive(key) {\n",
              "          const element = document.querySelector('#df-5d13ed44-e2b3-4ed6-b322-a5f221d320b5');\n",
              "          const dataTable =\n",
              "            await google.colab.kernel.invokeFunction('convertToInteractive',\n",
              "                                                     [key], {});\n",
              "          if (!dataTable) return;\n",
              "\n",
              "          const docLinkHtml = 'Like what you see? Visit the ' +\n",
              "            '<a target=\"_blank\" href=https://colab.research.google.com/notebooks/data_table.ipynb>data table notebook</a>'\n",
              "            + ' to learn more about interactive tables.';\n",
              "          element.innerHTML = '';\n",
              "          dataTable['output_type'] = 'display_data';\n",
              "          await google.colab.output.renderOutput(dataTable, element);\n",
              "          const docLink = document.createElement('div');\n",
              "          docLink.innerHTML = docLinkHtml;\n",
              "          element.appendChild(docLink);\n",
              "        }\n",
              "      </script>\n",
              "    </div>\n",
              "  </div>\n",
              "  "
            ]
          },
          "metadata": {},
          "execution_count": 23
        }
      ]
    },
    {
      "cell_type": "code",
      "source": [
        "v# You can properly start to work on the challenge."
      ],
      "metadata": {
        "id": "4udMZxYfFvqR"
      },
      "execution_count": null,
      "outputs": []
    }
  ]
}